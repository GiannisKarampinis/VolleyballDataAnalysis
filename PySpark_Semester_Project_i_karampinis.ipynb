{
  "nbformat": 4,
  "nbformat_minor": 0,
  "metadata": {
    "colab": {
      "provenance": [],
      "toc_visible": true,
      "authorship_tag": "ABX9TyNMb/cWSovJelqcKCAuAYOt",
      "include_colab_link": true
    },
    "kernelspec": {
      "name": "python3",
      "display_name": "Python 3"
    },
    "language_info": {
      "name": "python"
    }
  },
  "cells": [
    {
      "cell_type": "markdown",
      "metadata": {
        "id": "view-in-github",
        "colab_type": "text"
      },
      "source": [
        "<a href=\"https://colab.research.google.com/github/GiannisKarampinis/VolleyballDataAnalysis/blob/main/PySpark_Semester_Project_i_karampinis.ipynb\" target=\"_parent\"><img src=\"https://colab.research.google.com/assets/colab-badge.svg\" alt=\"Open In Colab\"/></a>"
      ]
    },
    {
      "cell_type": "markdown",
      "source": [
        "# Big Data - PySpark - Semester Project\n",
        "You have been asked to process the provided csv file named \"Mens-Volleyball-PlusLiga-2008-2023.csv\" to extract useful data out of it with the utilization of Apache Spark and specifically PySpark."
      ],
      "metadata": {
        "id": "rkjL8XY-Igd3"
      }
    },
    {
      "cell_type": "markdown",
      "source": [
        "The first step is to set up google colab for running PySpark by executing the following code block ([source](https://medium.com/@dipan.saha/pyspark-made-easy-day-2-execute-pyspark-on-google-colabs-f3e57da946a)). After initializing properly the google colab environment, a PySpark Session is necessary to be created here as well.\n"
      ],
      "metadata": {
        "id": "wKHE89uQKT2T"
      }
    },
    {
      "cell_type": "code",
      "execution_count": 1,
      "metadata": {
        "colab": {
          "base_uri": "https://localhost:8080/",
          "height": 569
        },
        "id": "EaPuJTs7N87W",
        "outputId": "5d0b31fc-67bc-4163-faff-c7e08c0f6a08"
      },
      "outputs": [
        {
          "output_type": "stream",
          "name": "stdout",
          "text": [
            "\r0% [Working]\r            \rGet:1 https://cloud.r-project.org/bin/linux/ubuntu jammy-cran40/ InRelease [3,626 B]\n",
            "Hit:2 https://developer.download.nvidia.com/compute/cuda/repos/ubuntu2204/x86_64  InRelease\n",
            "Get:3 http://security.ubuntu.com/ubuntu jammy-security InRelease [110 kB]\n",
            "Hit:4 http://archive.ubuntu.com/ubuntu jammy InRelease\n",
            "Get:5 http://archive.ubuntu.com/ubuntu jammy-updates InRelease [119 kB]\n",
            "Hit:6 https://ppa.launchpadcontent.net/c2d4u.team/c2d4u4.0+/ubuntu jammy InRelease\n",
            "Get:7 http://security.ubuntu.com/ubuntu jammy-security/main amd64 Packages [1,332 kB]\n",
            "Hit:8 https://ppa.launchpadcontent.net/deadsnakes/ppa/ubuntu jammy InRelease\n",
            "Hit:9 https://ppa.launchpadcontent.net/graphics-drivers/ppa/ubuntu jammy InRelease\n",
            "Hit:10 https://ppa.launchpadcontent.net/ubuntugis/ppa/ubuntu jammy InRelease\n",
            "Get:11 http://security.ubuntu.com/ubuntu jammy-security/restricted amd64 Packages [1,582 kB]\n",
            "Get:12 http://security.ubuntu.com/ubuntu jammy-security/universe amd64 Packages [1,047 kB]\n",
            "Hit:13 http://archive.ubuntu.com/ubuntu jammy-backports InRelease\n",
            "Get:14 http://archive.ubuntu.com/ubuntu jammy-updates/universe amd64 Packages [1,307 kB]\n",
            "Get:15 http://archive.ubuntu.com/ubuntu jammy-updates/restricted amd64 Packages [1,611 kB]\n",
            "Get:16 http://archive.ubuntu.com/ubuntu jammy-updates/main amd64 Packages [1,606 kB]\n",
            "Fetched 8,718 kB in 2s (4,113 kB/s)\n",
            "Reading package lists... Done\n",
            "sample_data  spark-3.1.1-bin-hadoop3.2\tspark-3.1.1-bin-hadoop3.2.tgz\n"
          ]
        },
        {
          "output_type": "execute_result",
          "data": {
            "text/plain": [
              "<pyspark.sql.session.SparkSession at 0x7c30d82c57b0>"
            ],
            "text/html": [
              "\n",
              "            <div>\n",
              "                <p><b>SparkSession - in-memory</b></p>\n",
              "                \n",
              "        <div>\n",
              "            <p><b>SparkContext</b></p>\n",
              "\n",
              "            <p><a href=\"http://b1056b138aa1:4040\">Spark UI</a></p>\n",
              "\n",
              "            <dl>\n",
              "              <dt>Version</dt>\n",
              "                <dd><code>v3.1.1</code></dd>\n",
              "              <dt>Master</dt>\n",
              "                <dd><code>local[*]</code></dd>\n",
              "              <dt>AppName</dt>\n",
              "                <dd><code>VolleyballDataAnalysis</code></dd>\n",
              "            </dl>\n",
              "        </div>\n",
              "        \n",
              "            </div>\n",
              "        "
            ]
          },
          "metadata": {},
          "execution_count": 1
        }
      ],
      "source": [
        "!apt-get update # Update apt-get repository.\n",
        "!apt-get install openjdk-8-jdk-headless -qq > /dev/null # Install Java.\n",
        "!wget -q http://archive.apache.org/dist/spark/spark-3.1.1/spark-3.1.1-bin-hadoop3.2.tgz # Download Apache Sparks.\n",
        "!tar xf spark-3.1.1-bin-hadoop3.2.tgz # Unzip the tgz file.\n",
        "!pip install -q findspark # Install findspark. Adds PySpark to the System path during runtime.\n",
        "\n",
        "# Set environment variables\n",
        "import os\n",
        "os.environ[\"JAVA_HOME\"] = \"/usr/lib/jvm/java-8-openjdk-amd64\"\n",
        "os.environ[\"SPARK_HOME\"] = \"/content/spark-3.1.1-bin-hadoop3.2\"\n",
        "\n",
        "!ls\n",
        "\n",
        "# Initialize findspark\n",
        "import findspark\n",
        "findspark.init()\n",
        "\n",
        "# Create a PySpark session\n",
        "from pyspark.sql import SparkSession\n",
        "spark = SparkSession.builder.appName(\"VolleyballDataAnalysis\").master(\"local[*]\").getOrCreate()\n",
        "spark"
      ]
    },
    {
      "cell_type": "code",
      "source": [
        "%cd '/content/sample_data'\n",
        "!git clone 'https://github.com/GiannisKarampinis/VolleyballDataAnalysis'"
      ],
      "metadata": {
        "colab": {
          "base_uri": "https://localhost:8080/"
        },
        "id": "1O183MTqjEvq",
        "outputId": "172b735f-bddb-4315-f3d4-a779eefda60a"
      },
      "execution_count": 2,
      "outputs": [
        {
          "output_type": "stream",
          "name": "stdout",
          "text": [
            "/content/sample_data\n",
            "Cloning into 'VolleyballDataAnalysis'...\n",
            "remote: Enumerating objects: 3, done.\u001b[K\n",
            "remote: Counting objects: 100% (3/3), done.\u001b[K\n",
            "remote: Compressing objects: 100% (3/3), done.\u001b[K\n",
            "remote: Total 3 (delta 0), reused 0 (delta 0), pack-reused 0\u001b[K\n",
            "Receiving objects: 100% (3/3), 148.43 KiB | 1.18 MiB/s, done.\n"
          ]
        }
      ]
    },
    {
      "cell_type": "markdown",
      "source": [
        "source: https://stackoverflow.com/questions/50818788/using-git-clone-in-google-colab-and-using-a-csv-file"
      ],
      "metadata": {
        "id": "n0RW2PoN8JHt"
      }
    },
    {
      "cell_type": "code",
      "source": [
        "init_df = spark.read.csv(\"/content/sample_data/VolleyballDataAnalysis/Mens-Volleyball-PlusLiga-2008-2023.csv\", header=True, inferSchema=True)"
      ],
      "metadata": {
        "id": "edSqoZZbOedy"
      },
      "execution_count": 3,
      "outputs": []
    },
    {
      "cell_type": "code",
      "source": [
        "from pyspark.sql.functions import monotonically_increasing_id\n",
        "init_df = init_df.withColumn(\"line_number\", monotonically_increasing_id())\n",
        "init_df.show()"
      ],
      "metadata": {
        "colab": {
          "base_uri": "https://localhost:8080/"
        },
        "id": "e8C7qAesPV6d",
        "outputId": "df0e1f97-b4b7-47c0-be13-afda7b190153"
      },
      "execution_count": 4,
      "outputs": [
        {
          "output_type": "stream",
          "name": "stdout",
          "text": [
            "+-----------------+--------------------+--------------------+--------+--------+------+-----+--------+----------+----------+----------+----------+----------+----------+----------+-----------+----------+----------+----------+-----------+----------------+----------+----------+---------+------+-----+--------+----------+----------+----------+----------+----------+----------+----------+-----------+----------+----------+----------+-----------+----------------+----------+----------+---------+------+-----------+\n",
            "|             Date|              Team_1|              Team_2|T1_Score|T2_Score|T1_Sum|T1_BP|T1_Ratio|T1_Srv_Sum|T1_Srv_Err|T1_Srv_Ace|T1_Srv_Eff|T1_Rec_Sum|T1_Rec_Err|T1_Rec_Pos|T1_Rec_Perf|T1_Att_Sum|T1_Att_Err|T1_Att_Blk|T1_Att_Kill|T1_Att_Kill_Perc|T1_Att_Eff|T1_Blk_Sum|T1_Blk_As|T2_Sum|T2_BP|T2_Ratio|T2_Srv_Sum|T2_Srv_Err|T2_Srv_Ace|T2_Srv_Eff|T2_Rec_Sum|T2_Rec_Err|T2_Rec_Pos|T2_Rec_Perf|T2_Att_Sum|T2_Att_Err|T2_Att_Blk|T2_Att_Kill|T2_Att_Kill_Perc|T2_Att_Eff|T2_Blk_Sum|T2_Blk_As|Winner|line_number|\n",
            "+-----------------+--------------------+--------------------+--------+--------+------+-----+--------+----------+----------+----------+----------+----------+----------+----------+-----------+----------+----------+----------+-----------+----------------+----------+----------+---------+------+-----+--------+----------+----------+----------+----------+----------+----------+----------+-----------+----------+----------+----------+-----------+----------------+----------+----------+---------+------+-----------+\n",
            "|01.10.2022, 14:45|         AZS Olsztyn|ZAKSA Kędzierzyn-...|       1|       3|  60.0| 17.0|    11.0|      79.0|        18|       6.0|      -13%|      85.0|      10.0|       51%|        25%|       100|       7.0|      14.0|       47.0|             47%|       26%|       7.0|       11|    69|   30|      38|        96|        11|        10|        2%|        61|         6|       45%|        26%|        88|         7|         7|         45|             51%|       35%|        14|       11|     1|          0|\n",
            "|30.09.2022, 17:30|  Jastrzębski Węgiel|        GKS Katowice|       3|       0|  51.0| 17.0|    27.0|      77.0|        15|       4.0|       -7%|      54.0|       4.0|       55%|        16%|        88|       4.0|       1.0|       43.0|             48%|       43%|       4.0|        8|    48|   16|      16|        70|        16|         4|      -11%|        62|         4|       50%|        20%|        91|         8|         4|         43|             47%|       34%|         1|       17|     0|          1|\n",
            "|01.10.2022, 20:30|         LUK  Lublin|        Czarni Radom|       2|       3|  76.0| 23.0|    35.0|     109.0|        16|       3.0|       -9%|      85.0|       9.0|       49%|        21%|       115|       6.0|      10.0|       63.0|             54%|       40%|      10.0|        9|    82|   23|      40|       104|        19|         9|       -5%|        93|         3|       47%|        18%|       128|        10|        10|         63|             49%|       33%|        10|       13|     1|          2|\n",
            "|02.10.2022, 14:45|     Warta Zawiercie|  PGE Skra Bełchatów|       3|       2|  66.0| 16.0|    22.0|      98.0|        21|       5.0|      -16%|      80.0|       8.0|       35%|        12%|        92|       8.0|       7.0|       52.0|             56%|       40%|       9.0|       11|    71|   21|      25|       103|        23|         8|       -8%|        77|         5|       32%|         9%|       102|         9|         9|         56|             54%|       37%|         7|       14|     0|          3|\n",
            "|03.10.2022, 17:30|  BBTS Bielsko-Biała|        Cuprum Lubin|       1|       3|  63.0| 22.0|    17.0|     100.0|        19|       7.0|       -7%|      77.0|      12.0|       40%|        23%|        97|       5.0|      10.0|       48.0|             49%|       34%|       8.0|       10|    80|   30|      32|       103|        26|        12|       -8%|        81|         7|       45%|        22%|       109|         7|         8|         58|             53%|       39%|        10|       10|     1|          4|\n",
            "|02.10.2022, 20:30|           Stal Nysa|Ślepsk Malow Suwałki|       3|       1|  68.0| 23.0|    29.0|     100.0|        22|       7.0|      -12%|      74.0|       8.0|       31%|        10%|       105|       5.0|       4.0|       56.0|             53%|       44%|       5.0|        9|    62|   19|      21|        93|        19|         8|       -7%|        78|         7|       42%|        14%|       102|        10|         5|         50|             49%|       34%|         4|        2|     0|          5|\n",
            "|02.10.2022, 17:30|        Trefl Gdańsk|  Barkom Każany Lwów|       3|       0|  59.0| 22.0|    33.0|      73.0|        16|       6.0|       -6%|      47.0|       0.0|       46%|        21%|        83|       2.0|       8.0|       50.0|             60%|       48%|       3.0|       10|    38|    8|      14|        58|        11|         0|      -17%|        57|         6|       36%|        17%|        71|         4|         3|         30|             42%|       32%|         8|        5|     0|          6|\n",
            "|01.10.2022, 17:30|      Asseco Resovia|    Projekt Warszawa|       3|       0|  52.0| 23.0|    25.0|      74.0|        14|       6.0|       -8%|      40.0|       1.0|       50%|        22%|        69|       7.0|       5.0|       36.0|             52%|       34%|      10.0|        8|    32|    3|      -4|        54|        14|         1|      -20%|        60|         6|       36%|        18%|        75|         6|        10|         26|             34%|       13%|         5|        5|     0|          7|\n",
            "|04.10.2022, 16:30|        GKS Katowice|    Projekt Warszawa|       3|       1|  67.0| 26.0|    30.0|      94.0|        18|       8.0|       -6%|      67.0|       4.0|       44%|        25%|       105|       7.0|       8.0|       54.0|             51%|       37%|       5.0|       18|    55|   17|      15|        83|        16|         4|       -6%|        76|         8|       47%|        26%|        95|        11|         5|         43|             45%|       28%|         8|       11|     0|          8|\n",
            "|05.10.2022, 18:45|  Barkom Każany Lwów|      Asseco Resovia|       0|       3|  40.0| 15.0|     9.0|      60.0|        11|       4.0|       -1%|      59.0|       6.0|       28%|        10%|        71|       8.0|       6.0|       33.0|             46%|       26%|       3.0|        6|    52|   20|      28|        73|        14|         6|       -6%|        49|         4|       38%|        24%|        62|         3|         3|         40|             64%|       54%|         6|        4|     1|          9|\n",
            "|06.10.2022, 21:00|Ślepsk Malow Suwałki|        Trefl Gdańsk|       3|       1|  68.0| 15.0|    32.0|      99.0|        19|       2.0|      -14%|      83.0|       5.0|       48%|        20%|       111|       3.0|       9.0|       54.0|             48%|       37%|      12.0|        8|    78|   23|      35|       102|        19|         5|       -6%|        79|         2|       64%|        26%|       125|        10|        12|         64|             51%|       33%|         9|        5|     0|         10|\n",
            "|06.10.2022, 18:45|        Cuprum Lubin|           Stal Nysa|       0|       3|  35.0|  8.0|     0.0|      50.0|        11|       3.0|      -16%|      62.0|      10.0|       38%|         9%|        71|       5.0|       9.0|       27.0|             38%|       18%|       5.0|        6|    58|   29|      36|        74|        11|        10|        2%|        39|         3|       53%|        12%|        66|         3|         5|         39|             59%|       46%|         9|        9|     1|         11|\n",
            "|05.10.2022, 21:00|  PGE Skra Bełchatów|  BBTS Bielsko-Biała|       3|       0|  52.0| 18.0|    36.0|      74.0|         7|       2.0|       -2%|      46.0|       3.0|       54%|        28%|        69|       2.0|       4.0|       40.0|             57%|       49%|      10.0|        6|    49|   11|      16|        59|        13|         3|      -13%|        67|         2|       46%|        13%|        88|         8|        10|         42|             47%|       27%|         4|        6|     0|         12|\n",
            "|05.10.2022, 16:30|        Czarni Radom|     Warta Zawiercie|       0|       3|  45.0| 12.0|    13.0|      58.0|        10|       2.0|      -12%|      65.0|       4.0|       30%|        15%|        82|       4.0|      14.0|       33.0|             40%|       18%|      10.0|        2|    61|   28|      38|        73|         8|         4|        1%|        48|         2|       50%|        35%|        92|         3|        10|         43|             46%|       32%|        14|        6|     1|         13|\n",
            "|04.10.2022, 21:00|ZAKSA Kędzierzyn-...|         LUK  Lublin|       3|       0|  59.0| 23.0|    37.0|      73.0|         9|       3.0|       -5%|      53.0|       4.0|       43%|        32%|        76|       5.0|       4.0|       45.0|             59%|       47%|      11.0|        7|    45|   12|      16|        61|         8|         4|       -3%|        64|         3|       56%|        28%|        88|         7|        11|         37|             42%|       21%|         4|        3|     0|         14|\n",
            "|04.10.2022, 18:45|  Jastrzębski Węgiel|         AZS Olsztyn|       3|       1|  73.0| 27.0|    28.0|     102.0|        20|       9.0|       -7%|      74.0|      14.0|       41%|        21%|        95|       5.0|       6.0|       58.0|             61%|       49%|       6.0|       12|    68|   24|      25|        94|        20|        14|       -6%|        82|         9|       35%|        15%|        90|         8|         6|         48|             53%|       37%|         6|        9|     0|         15|\n",
            "|08.10.2022, 17:30|         AZS Olsztyn|        GKS Katowice|       3|       0|  61.0| 25.0|    38.0|      77.0|        12|      10.0|        1%|      56.0|       6.0|       44%|        17%|        75|       4.0|       1.0|       43.0|             57%|       50%|       8.0|       10|    47|   14|      13|        67|        11|         6|       -4%|        65|        10|       35%|        15%|        80|         5|         8|         40|             50%|       33%|         1|        5|     0|         16|\n",
            "|07.10.2022, 20:30|         LUK  Lublin|  Jastrzębski Węgiel|       1|       3|  66.0| 24.0|    23.0|      85.0|        19|       6.0|      -10%|      83.0|       8.0|       40%|        20%|       104|       9.0|       7.0|       50.0|             48%|       32%|      10.0|       10|    68|   31|      35|        98|        15|         8|        1%|        66|         6|       48%|        28%|        97|         2|        10|         53|             54%|       42%|         7|       14|     1|         17|\n",
            "|09.10.2022, 14:45|     Warta Zawiercie|ZAKSA Kędzierzyn-...|       3|       1|  73.0| 25.0|    39.0|      97.0|        15|       5.0|       -2%|      75.0|       5.0|       49%|        16%|       123|       4.0|      10.0|       60.0|             48%|       37%|       8.0|       10|    68|   20|      30|        91|        16|         5|       -8%|        82|         5|       36%|        14%|       108|         9|         8|         53|             49%|       33%|        10|       15|     0|         18|\n",
            "|10.10.2022, 17:30|  BBTS Bielsko-Biała|        Czarni Radom|       3|       2|  69.0| 28.0|    26.0|     107.0|        23|       7.0|      -11%|      77.0|       6.0|       41%|        20%|       108|       8.0|       6.0|       48.0|             44%|       31%|      14.0|       15|    69|   24|      16|       103|        26|         6|      -14%|        84|         7|       41%|        10%|       123|         6|        14|         57|             46%|       30%|         6|       17|     0|         19|\n",
            "+-----------------+--------------------+--------------------+--------+--------+------+-----+--------+----------+----------+----------+----------+----------+----------+----------+-----------+----------+----------+----------+-----------+----------------+----------+----------+---------+------+-----+--------+----------+----------+----------+----------+----------+----------+----------+-----------+----------+----------+----------+-----------+----------------+----------+----------+---------+------+-----------+\n",
            "only showing top 20 rows\n",
            "\n"
          ]
        }
      ]
    },
    {
      "cell_type": "markdown",
      "source": [
        "Make all the necessary imports for the used functions of this project."
      ],
      "metadata": {
        "id": "E9WpgsHgPM9I"
      }
    },
    {
      "cell_type": "code",
      "source": [
        "from pyspark.sql.functions import regexp_replace, upper, concat, col, lit, to_timestamp, concat_ws, when, count, desc\n",
        "from pyspark.sql.functions import sum as _sum\n",
        "from pyspark.sql.types import StringType, StructField, StructType, IntegerType, DoubleType"
      ],
      "metadata": {
        "id": "5gz7I1qpQZ6D"
      },
      "execution_count": 5,
      "outputs": []
    },
    {
      "cell_type": "markdown",
      "source": [
        "## 1st Exercise - 1\n",
        "For columns **percentage_cols = ['T1_Srv_Eff', 'T1_Rec_Pos', 'T1_Rec_Perf', 'T1_Att_Kill_Perc', 'T1_Att_Eff', 'T1_Att_Sum', 'T2_Srv_Eff', 'T2_Rec_Pos', 'T2_Rec_Perf', 'T2_Att_Kill_Perc', 'T2_Att_Eff', 'T2_Att_Sum']**, remove percentage sign ('%') and depict the result without truncation.\n"
      ],
      "metadata": {
        "id": "_qRJPgevNr4S"
      }
    },
    {
      "cell_type": "code",
      "source": [
        "# 1st Exercise - 1:\n",
        "df1 = init_df  # modify the copy (df1) and not the original df\n",
        "\n",
        "percentage_cols = ['T1_Srv_Eff', 'T1_Rec_Pos', 'T1_Rec_Perf', 'T1_Att_Kill_Perc', 'T1_Att_Eff',\n",
        "                    'T1_Att_Sum', 'T2_Srv_Eff', 'T2_Rec_Pos', 'T2_Rec_Perf', 'T2_Att_Kill_Perc',\n",
        "                    'T2_Att_Eff', 'T2_Att_Sum']\n",
        "\n",
        "for colu in percentage_cols:\n",
        "    df1 = df1.withColumn(\"{}\".format(colu), regexp_replace(\"{}\".format(colu), '%', ''))\n",
        "df1.show(truncate=False)"
      ],
      "metadata": {
        "colab": {
          "base_uri": "https://localhost:8080/"
        },
        "id": "YiiDaqv4QJcJ",
        "outputId": "90fc1179-a85e-46d9-b7f0-12ce0db7c635"
      },
      "execution_count": 6,
      "outputs": [
        {
          "output_type": "stream",
          "name": "stdout",
          "text": [
            "+-----------------+----------------------+----------------------+--------+--------+------+-----+--------+----------+----------+----------+----------+----------+----------+----------+-----------+----------+----------+----------+-----------+----------------+----------+----------+---------+------+-----+--------+----------+----------+----------+----------+----------+----------+----------+-----------+----------+----------+----------+-----------+----------------+----------+----------+---------+------+-----------+\n",
            "|Date             |Team_1                |Team_2                |T1_Score|T2_Score|T1_Sum|T1_BP|T1_Ratio|T1_Srv_Sum|T1_Srv_Err|T1_Srv_Ace|T1_Srv_Eff|T1_Rec_Sum|T1_Rec_Err|T1_Rec_Pos|T1_Rec_Perf|T1_Att_Sum|T1_Att_Err|T1_Att_Blk|T1_Att_Kill|T1_Att_Kill_Perc|T1_Att_Eff|T1_Blk_Sum|T1_Blk_As|T2_Sum|T2_BP|T2_Ratio|T2_Srv_Sum|T2_Srv_Err|T2_Srv_Ace|T2_Srv_Eff|T2_Rec_Sum|T2_Rec_Err|T2_Rec_Pos|T2_Rec_Perf|T2_Att_Sum|T2_Att_Err|T2_Att_Blk|T2_Att_Kill|T2_Att_Kill_Perc|T2_Att_Eff|T2_Blk_Sum|T2_Blk_As|Winner|line_number|\n",
            "+-----------------+----------------------+----------------------+--------+--------+------+-----+--------+----------+----------+----------+----------+----------+----------+----------+-----------+----------+----------+----------+-----------+----------------+----------+----------+---------+------+-----+--------+----------+----------+----------+----------+----------+----------+----------+-----------+----------+----------+----------+-----------+----------------+----------+----------+---------+------+-----------+\n",
            "|01.10.2022, 14:45|AZS Olsztyn           |ZAKSA Kędzierzyn-Koźle|1       |3       |60.0  |17.0 |11.0    |79.0      |18        |6.0       |-13       |85.0      |10.0      |51        |25         |100       |7.0       |14.0      |47.0       |47              |26        |7.0       |11       |69    |30   |38      |96        |11        |10        |2         |61        |6         |45        |26         |88        |7         |7         |45         |51              |35        |14        |11       |1     |0          |\n",
            "|30.09.2022, 17:30|Jastrzębski Węgiel    |GKS Katowice          |3       |0       |51.0  |17.0 |27.0    |77.0      |15        |4.0       |-7        |54.0      |4.0       |55        |16         |88        |4.0       |1.0       |43.0       |48              |43        |4.0       |8        |48    |16   |16      |70        |16        |4         |-11       |62        |4         |50        |20         |91        |8         |4         |43         |47              |34        |1         |17       |0     |1          |\n",
            "|01.10.2022, 20:30|LUK  Lublin           |Czarni Radom          |2       |3       |76.0  |23.0 |35.0    |109.0     |16        |3.0       |-9        |85.0      |9.0       |49        |21         |115       |6.0       |10.0      |63.0       |54              |40        |10.0      |9        |82    |23   |40      |104       |19        |9         |-5        |93        |3         |47        |18         |128       |10        |10        |63         |49              |33        |10        |13       |1     |2          |\n",
            "|02.10.2022, 14:45|Warta Zawiercie       |PGE Skra Bełchatów    |3       |2       |66.0  |16.0 |22.0    |98.0      |21        |5.0       |-16       |80.0      |8.0       |35        |12         |92        |8.0       |7.0       |52.0       |56              |40        |9.0       |11       |71    |21   |25      |103       |23        |8         |-8        |77        |5         |32        |9          |102       |9         |9         |56         |54              |37        |7         |14       |0     |3          |\n",
            "|03.10.2022, 17:30|BBTS Bielsko-Biała    |Cuprum Lubin          |1       |3       |63.0  |22.0 |17.0    |100.0     |19        |7.0       |-7        |77.0      |12.0      |40        |23         |97        |5.0       |10.0      |48.0       |49              |34        |8.0       |10       |80    |30   |32      |103       |26        |12        |-8        |81        |7         |45        |22         |109       |7         |8         |58         |53              |39        |10        |10       |1     |4          |\n",
            "|02.10.2022, 20:30|Stal Nysa             |Ślepsk Malow Suwałki  |3       |1       |68.0  |23.0 |29.0    |100.0     |22        |7.0       |-12       |74.0      |8.0       |31        |10         |105       |5.0       |4.0       |56.0       |53              |44        |5.0       |9        |62    |19   |21      |93        |19        |8         |-7        |78        |7         |42        |14         |102       |10        |5         |50         |49              |34        |4         |2        |0     |5          |\n",
            "|02.10.2022, 17:30|Trefl Gdańsk          |Barkom Każany Lwów    |3       |0       |59.0  |22.0 |33.0    |73.0      |16        |6.0       |-6        |47.0      |0.0       |46        |21         |83        |2.0       |8.0       |50.0       |60              |48        |3.0       |10       |38    |8    |14      |58        |11        |0         |-17       |57        |6         |36        |17         |71        |4         |3         |30         |42              |32        |8         |5        |0     |6          |\n",
            "|01.10.2022, 17:30|Asseco Resovia        |Projekt Warszawa      |3       |0       |52.0  |23.0 |25.0    |74.0      |14        |6.0       |-8        |40.0      |1.0       |50        |22         |69        |7.0       |5.0       |36.0       |52              |34        |10.0      |8        |32    |3    |-4      |54        |14        |1         |-20       |60        |6         |36        |18         |75        |6         |10        |26         |34              |13        |5         |5        |0     |7          |\n",
            "|04.10.2022, 16:30|GKS Katowice          |Projekt Warszawa      |3       |1       |67.0  |26.0 |30.0    |94.0      |18        |8.0       |-6        |67.0      |4.0       |44        |25         |105       |7.0       |8.0       |54.0       |51              |37        |5.0       |18       |55    |17   |15      |83        |16        |4         |-6        |76        |8         |47        |26         |95        |11        |5         |43         |45              |28        |8         |11       |0     |8          |\n",
            "|05.10.2022, 18:45|Barkom Każany Lwów    |Asseco Resovia        |0       |3       |40.0  |15.0 |9.0     |60.0      |11        |4.0       |-1        |59.0      |6.0       |28        |10         |71        |8.0       |6.0       |33.0       |46              |26        |3.0       |6        |52    |20   |28      |73        |14        |6         |-6        |49        |4         |38        |24         |62        |3         |3         |40         |64              |54        |6         |4        |1     |9          |\n",
            "|06.10.2022, 21:00|Ślepsk Malow Suwałki  |Trefl Gdańsk          |3       |1       |68.0  |15.0 |32.0    |99.0      |19        |2.0       |-14       |83.0      |5.0       |48        |20         |111       |3.0       |9.0       |54.0       |48              |37        |12.0      |8        |78    |23   |35      |102       |19        |5         |-6        |79        |2         |64        |26         |125       |10        |12        |64         |51              |33        |9         |5        |0     |10         |\n",
            "|06.10.2022, 18:45|Cuprum Lubin          |Stal Nysa             |0       |3       |35.0  |8.0  |0.0     |50.0      |11        |3.0       |-16       |62.0      |10.0      |38        |9          |71        |5.0       |9.0       |27.0       |38              |18        |5.0       |6        |58    |29   |36      |74        |11        |10        |2         |39        |3         |53        |12         |66        |3         |5         |39         |59              |46        |9         |9        |1     |11         |\n",
            "|05.10.2022, 21:00|PGE Skra Bełchatów    |BBTS Bielsko-Biała    |3       |0       |52.0  |18.0 |36.0    |74.0      |7         |2.0       |-2        |46.0      |3.0       |54        |28         |69        |2.0       |4.0       |40.0       |57              |49        |10.0      |6        |49    |11   |16      |59        |13        |3         |-13       |67        |2         |46        |13         |88        |8         |10        |42         |47              |27        |4         |6        |0     |12         |\n",
            "|05.10.2022, 16:30|Czarni Radom          |Warta Zawiercie       |0       |3       |45.0  |12.0 |13.0    |58.0      |10        |2.0       |-12       |65.0      |4.0       |30        |15         |82        |4.0       |14.0      |33.0       |40              |18        |10.0      |2        |61    |28   |38      |73        |8         |4         |1         |48        |2         |50        |35         |92        |3         |10        |43         |46              |32        |14        |6        |1     |13         |\n",
            "|04.10.2022, 21:00|ZAKSA Kędzierzyn-Koźle|LUK  Lublin           |3       |0       |59.0  |23.0 |37.0    |73.0      |9         |3.0       |-5        |53.0      |4.0       |43        |32         |76        |5.0       |4.0       |45.0       |59              |47        |11.0      |7        |45    |12   |16      |61        |8         |4         |-3        |64        |3         |56        |28         |88        |7         |11        |37         |42              |21        |4         |3        |0     |14         |\n",
            "|04.10.2022, 18:45|Jastrzębski Węgiel    |AZS Olsztyn           |3       |1       |73.0  |27.0 |28.0    |102.0     |20        |9.0       |-7        |74.0      |14.0      |41        |21         |95        |5.0       |6.0       |58.0       |61              |49        |6.0       |12       |68    |24   |25      |94        |20        |14        |-6        |82        |9         |35        |15         |90        |8         |6         |48         |53              |37        |6         |9        |0     |15         |\n",
            "|08.10.2022, 17:30|AZS Olsztyn           |GKS Katowice          |3       |0       |61.0  |25.0 |38.0    |77.0      |12        |10.0      |1         |56.0      |6.0       |44        |17         |75        |4.0       |1.0       |43.0       |57              |50        |8.0       |10       |47    |14   |13      |67        |11        |6         |-4        |65        |10        |35        |15         |80        |5         |8         |40         |50              |33        |1         |5        |0     |16         |\n",
            "|07.10.2022, 20:30|LUK  Lublin           |Jastrzębski Węgiel    |1       |3       |66.0  |24.0 |23.0    |85.0      |19        |6.0       |-10       |83.0      |8.0       |40        |20         |104       |9.0       |7.0       |50.0       |48              |32        |10.0      |10       |68    |31   |35      |98        |15        |8         |1         |66        |6         |48        |28         |97        |2         |10        |53         |54              |42        |7         |14       |1     |17         |\n",
            "|09.10.2022, 14:45|Warta Zawiercie       |ZAKSA Kędzierzyn-Koźle|3       |1       |73.0  |25.0 |39.0    |97.0      |15        |5.0       |-2        |75.0      |5.0       |49        |16         |123       |4.0       |10.0      |60.0       |48              |37        |8.0       |10       |68    |20   |30      |91        |16        |5         |-8        |82        |5         |36        |14         |108       |9         |8         |53         |49              |33        |10        |15       |0     |18         |\n",
            "|10.10.2022, 17:30|BBTS Bielsko-Biała    |Czarni Radom          |3       |2       |69.0  |28.0 |26.0    |107.0     |23        |7.0       |-11       |77.0      |6.0       |41        |20         |108       |8.0       |6.0       |48.0       |44              |31        |14.0      |15       |69    |24   |16      |103       |26        |6         |-14       |84        |7         |41        |10         |123       |6         |14        |57         |46              |30        |6         |17       |0     |19         |\n",
            "+-----------------+----------------------+----------------------+--------+--------+------+-----+--------+----------+----------+----------+----------+----------+----------+----------+-----------+----------+----------+----------+-----------+----------------+----------+----------+---------+------+-----+--------+----------+----------+----------+----------+----------+----------+----------+-----------+----------+----------+----------+-----------+----------------+----------+----------+---------+------+-----------+\n",
            "only showing top 20 rows\n",
            "\n"
          ]
        }
      ]
    },
    {
      "cell_type": "markdown",
      "source": [
        "## 1st Exercise - 2\n",
        "Convert team names to uppercase."
      ],
      "metadata": {
        "id": "FDUOHO20OZOO"
      }
    },
    {
      "cell_type": "code",
      "source": [
        "# 1st Exercise - 2:\n",
        "for colu in ['Team_1', 'Team_2']:\n",
        "    df1 = df1.withColumn(colu, upper(colu))\n",
        "df1.show()"
      ],
      "metadata": {
        "colab": {
          "base_uri": "https://localhost:8080/"
        },
        "id": "FAjLIzv6Qp-N",
        "outputId": "cda745c3-e2c6-4991-92fb-7513d006640b"
      },
      "execution_count": 7,
      "outputs": [
        {
          "output_type": "stream",
          "name": "stdout",
          "text": [
            "+-----------------+--------------------+--------------------+--------+--------+------+-----+--------+----------+----------+----------+----------+----------+----------+----------+-----------+----------+----------+----------+-----------+----------------+----------+----------+---------+------+-----+--------+----------+----------+----------+----------+----------+----------+----------+-----------+----------+----------+----------+-----------+----------------+----------+----------+---------+------+-----------+\n",
            "|             Date|              Team_1|              Team_2|T1_Score|T2_Score|T1_Sum|T1_BP|T1_Ratio|T1_Srv_Sum|T1_Srv_Err|T1_Srv_Ace|T1_Srv_Eff|T1_Rec_Sum|T1_Rec_Err|T1_Rec_Pos|T1_Rec_Perf|T1_Att_Sum|T1_Att_Err|T1_Att_Blk|T1_Att_Kill|T1_Att_Kill_Perc|T1_Att_Eff|T1_Blk_Sum|T1_Blk_As|T2_Sum|T2_BP|T2_Ratio|T2_Srv_Sum|T2_Srv_Err|T2_Srv_Ace|T2_Srv_Eff|T2_Rec_Sum|T2_Rec_Err|T2_Rec_Pos|T2_Rec_Perf|T2_Att_Sum|T2_Att_Err|T2_Att_Blk|T2_Att_Kill|T2_Att_Kill_Perc|T2_Att_Eff|T2_Blk_Sum|T2_Blk_As|Winner|line_number|\n",
            "+-----------------+--------------------+--------------------+--------+--------+------+-----+--------+----------+----------+----------+----------+----------+----------+----------+-----------+----------+----------+----------+-----------+----------------+----------+----------+---------+------+-----+--------+----------+----------+----------+----------+----------+----------+----------+-----------+----------+----------+----------+-----------+----------------+----------+----------+---------+------+-----------+\n",
            "|01.10.2022, 14:45|         AZS OLSZTYN|ZAKSA KĘDZIERZYN-...|       1|       3|  60.0| 17.0|    11.0|      79.0|        18|       6.0|       -13|      85.0|      10.0|        51|         25|       100|       7.0|      14.0|       47.0|              47|        26|       7.0|       11|    69|   30|      38|        96|        11|        10|         2|        61|         6|        45|         26|        88|         7|         7|         45|              51|        35|        14|       11|     1|          0|\n",
            "|30.09.2022, 17:30|  JASTRZĘBSKI WĘGIEL|        GKS KATOWICE|       3|       0|  51.0| 17.0|    27.0|      77.0|        15|       4.0|        -7|      54.0|       4.0|        55|         16|        88|       4.0|       1.0|       43.0|              48|        43|       4.0|        8|    48|   16|      16|        70|        16|         4|       -11|        62|         4|        50|         20|        91|         8|         4|         43|              47|        34|         1|       17|     0|          1|\n",
            "|01.10.2022, 20:30|         LUK  LUBLIN|        CZARNI RADOM|       2|       3|  76.0| 23.0|    35.0|     109.0|        16|       3.0|        -9|      85.0|       9.0|        49|         21|       115|       6.0|      10.0|       63.0|              54|        40|      10.0|        9|    82|   23|      40|       104|        19|         9|        -5|        93|         3|        47|         18|       128|        10|        10|         63|              49|        33|        10|       13|     1|          2|\n",
            "|02.10.2022, 14:45|     WARTA ZAWIERCIE|  PGE SKRA BEŁCHATÓW|       3|       2|  66.0| 16.0|    22.0|      98.0|        21|       5.0|       -16|      80.0|       8.0|        35|         12|        92|       8.0|       7.0|       52.0|              56|        40|       9.0|       11|    71|   21|      25|       103|        23|         8|        -8|        77|         5|        32|          9|       102|         9|         9|         56|              54|        37|         7|       14|     0|          3|\n",
            "|03.10.2022, 17:30|  BBTS BIELSKO-BIAŁA|        CUPRUM LUBIN|       1|       3|  63.0| 22.0|    17.0|     100.0|        19|       7.0|        -7|      77.0|      12.0|        40|         23|        97|       5.0|      10.0|       48.0|              49|        34|       8.0|       10|    80|   30|      32|       103|        26|        12|        -8|        81|         7|        45|         22|       109|         7|         8|         58|              53|        39|        10|       10|     1|          4|\n",
            "|02.10.2022, 20:30|           STAL NYSA|ŚLEPSK MALOW SUWAŁKI|       3|       1|  68.0| 23.0|    29.0|     100.0|        22|       7.0|       -12|      74.0|       8.0|        31|         10|       105|       5.0|       4.0|       56.0|              53|        44|       5.0|        9|    62|   19|      21|        93|        19|         8|        -7|        78|         7|        42|         14|       102|        10|         5|         50|              49|        34|         4|        2|     0|          5|\n",
            "|02.10.2022, 17:30|        TREFL GDAŃSK|  BARKOM KAŻANY LWÓW|       3|       0|  59.0| 22.0|    33.0|      73.0|        16|       6.0|        -6|      47.0|       0.0|        46|         21|        83|       2.0|       8.0|       50.0|              60|        48|       3.0|       10|    38|    8|      14|        58|        11|         0|       -17|        57|         6|        36|         17|        71|         4|         3|         30|              42|        32|         8|        5|     0|          6|\n",
            "|01.10.2022, 17:30|      ASSECO RESOVIA|    PROJEKT WARSZAWA|       3|       0|  52.0| 23.0|    25.0|      74.0|        14|       6.0|        -8|      40.0|       1.0|        50|         22|        69|       7.0|       5.0|       36.0|              52|        34|      10.0|        8|    32|    3|      -4|        54|        14|         1|       -20|        60|         6|        36|         18|        75|         6|        10|         26|              34|        13|         5|        5|     0|          7|\n",
            "|04.10.2022, 16:30|        GKS KATOWICE|    PROJEKT WARSZAWA|       3|       1|  67.0| 26.0|    30.0|      94.0|        18|       8.0|        -6|      67.0|       4.0|        44|         25|       105|       7.0|       8.0|       54.0|              51|        37|       5.0|       18|    55|   17|      15|        83|        16|         4|        -6|        76|         8|        47|         26|        95|        11|         5|         43|              45|        28|         8|       11|     0|          8|\n",
            "|05.10.2022, 18:45|  BARKOM KAŻANY LWÓW|      ASSECO RESOVIA|       0|       3|  40.0| 15.0|     9.0|      60.0|        11|       4.0|        -1|      59.0|       6.0|        28|         10|        71|       8.0|       6.0|       33.0|              46|        26|       3.0|        6|    52|   20|      28|        73|        14|         6|        -6|        49|         4|        38|         24|        62|         3|         3|         40|              64|        54|         6|        4|     1|          9|\n",
            "|06.10.2022, 21:00|ŚLEPSK MALOW SUWAŁKI|        TREFL GDAŃSK|       3|       1|  68.0| 15.0|    32.0|      99.0|        19|       2.0|       -14|      83.0|       5.0|        48|         20|       111|       3.0|       9.0|       54.0|              48|        37|      12.0|        8|    78|   23|      35|       102|        19|         5|        -6|        79|         2|        64|         26|       125|        10|        12|         64|              51|        33|         9|        5|     0|         10|\n",
            "|06.10.2022, 18:45|        CUPRUM LUBIN|           STAL NYSA|       0|       3|  35.0|  8.0|     0.0|      50.0|        11|       3.0|       -16|      62.0|      10.0|        38|          9|        71|       5.0|       9.0|       27.0|              38|        18|       5.0|        6|    58|   29|      36|        74|        11|        10|         2|        39|         3|        53|         12|        66|         3|         5|         39|              59|        46|         9|        9|     1|         11|\n",
            "|05.10.2022, 21:00|  PGE SKRA BEŁCHATÓW|  BBTS BIELSKO-BIAŁA|       3|       0|  52.0| 18.0|    36.0|      74.0|         7|       2.0|        -2|      46.0|       3.0|        54|         28|        69|       2.0|       4.0|       40.0|              57|        49|      10.0|        6|    49|   11|      16|        59|        13|         3|       -13|        67|         2|        46|         13|        88|         8|        10|         42|              47|        27|         4|        6|     0|         12|\n",
            "|05.10.2022, 16:30|        CZARNI RADOM|     WARTA ZAWIERCIE|       0|       3|  45.0| 12.0|    13.0|      58.0|        10|       2.0|       -12|      65.0|       4.0|        30|         15|        82|       4.0|      14.0|       33.0|              40|        18|      10.0|        2|    61|   28|      38|        73|         8|         4|         1|        48|         2|        50|         35|        92|         3|        10|         43|              46|        32|        14|        6|     1|         13|\n",
            "|04.10.2022, 21:00|ZAKSA KĘDZIERZYN-...|         LUK  LUBLIN|       3|       0|  59.0| 23.0|    37.0|      73.0|         9|       3.0|        -5|      53.0|       4.0|        43|         32|        76|       5.0|       4.0|       45.0|              59|        47|      11.0|        7|    45|   12|      16|        61|         8|         4|        -3|        64|         3|        56|         28|        88|         7|        11|         37|              42|        21|         4|        3|     0|         14|\n",
            "|04.10.2022, 18:45|  JASTRZĘBSKI WĘGIEL|         AZS OLSZTYN|       3|       1|  73.0| 27.0|    28.0|     102.0|        20|       9.0|        -7|      74.0|      14.0|        41|         21|        95|       5.0|       6.0|       58.0|              61|        49|       6.0|       12|    68|   24|      25|        94|        20|        14|        -6|        82|         9|        35|         15|        90|         8|         6|         48|              53|        37|         6|        9|     0|         15|\n",
            "|08.10.2022, 17:30|         AZS OLSZTYN|        GKS KATOWICE|       3|       0|  61.0| 25.0|    38.0|      77.0|        12|      10.0|         1|      56.0|       6.0|        44|         17|        75|       4.0|       1.0|       43.0|              57|        50|       8.0|       10|    47|   14|      13|        67|        11|         6|        -4|        65|        10|        35|         15|        80|         5|         8|         40|              50|        33|         1|        5|     0|         16|\n",
            "|07.10.2022, 20:30|         LUK  LUBLIN|  JASTRZĘBSKI WĘGIEL|       1|       3|  66.0| 24.0|    23.0|      85.0|        19|       6.0|       -10|      83.0|       8.0|        40|         20|       104|       9.0|       7.0|       50.0|              48|        32|      10.0|       10|    68|   31|      35|        98|        15|         8|         1|        66|         6|        48|         28|        97|         2|        10|         53|              54|        42|         7|       14|     1|         17|\n",
            "|09.10.2022, 14:45|     WARTA ZAWIERCIE|ZAKSA KĘDZIERZYN-...|       3|       1|  73.0| 25.0|    39.0|      97.0|        15|       5.0|        -2|      75.0|       5.0|        49|         16|       123|       4.0|      10.0|       60.0|              48|        37|       8.0|       10|    68|   20|      30|        91|        16|         5|        -8|        82|         5|        36|         14|       108|         9|         8|         53|              49|        33|        10|       15|     0|         18|\n",
            "|10.10.2022, 17:30|  BBTS BIELSKO-BIAŁA|        CZARNI RADOM|       3|       2|  69.0| 28.0|    26.0|     107.0|        23|       7.0|       -11|      77.0|       6.0|        41|         20|       108|       8.0|       6.0|       48.0|              44|        31|      14.0|       15|    69|   24|      16|       103|        26|         6|       -14|        84|         7|        41|         10|       123|         6|        14|         57|              46|        30|         6|       17|     0|         19|\n",
            "+-----------------+--------------------+--------------------+--------+--------+------+-----+--------+----------+----------+----------+----------+----------+----------+----------+-----------+----------+----------+----------+-----------+----------------+----------+----------+---------+------+-----+--------+----------+----------+----------+----------+----------+----------+----------+-----------+----------+----------+----------+-----------+----------------+----------+----------+---------+------+-----------+\n",
            "only showing top 20 rows\n",
            "\n"
          ]
        }
      ]
    },
    {
      "cell_type": "markdown",
      "source": [
        "## 1st Exercise - 3\n",
        "Calculate and save to a variable the number of games read from csv."
      ],
      "metadata": {
        "id": "ARtQFYRtOk6F"
      }
    },
    {
      "cell_type": "code",
      "source": [
        "# 1st Exercise - 3:\n",
        "numOfGames = df1.count()\n",
        "print(numOfGames)"
      ],
      "metadata": {
        "colab": {
          "base_uri": "https://localhost:8080/"
        },
        "id": "cI-EEtb9Qy29",
        "outputId": "2430706d-9e53-41fc-af98-af95bdd99f1f"
      },
      "execution_count": 8,
      "outputs": [
        {
          "output_type": "stream",
          "name": "stdout",
          "text": [
            "2639\n"
          ]
        }
      ]
    },
    {
      "cell_type": "markdown",
      "source": [
        "## 1st Exercise - 4\n",
        "Calculate the number of sets per match."
      ],
      "metadata": {
        "id": "gqZWBWhTO1GZ"
      }
    },
    {
      "cell_type": "code",
      "source": [
        "# 1st Exercise - 4:\n",
        "df2 = init_df\n",
        "df2 = df2.withColumn(\"Sets_per_Game\", sum(df2[colu] for colu in [\"T1_Score\", \"T2_Score\"]))\n",
        "#df3 = df2.select(\"Sets_per_Game\")\n",
        "df2.show()"
      ],
      "metadata": {
        "colab": {
          "base_uri": "https://localhost:8080/"
        },
        "id": "bdzPUNHlQ3VL",
        "outputId": "cbb649ad-e4e6-4b3a-b9a8-e3002635eea0"
      },
      "execution_count": 9,
      "outputs": [
        {
          "output_type": "stream",
          "name": "stdout",
          "text": [
            "+-----------------+--------------------+--------------------+--------+--------+------+-----+--------+----------+----------+----------+----------+----------+----------+----------+-----------+----------+----------+----------+-----------+----------------+----------+----------+---------+------+-----+--------+----------+----------+----------+----------+----------+----------+----------+-----------+----------+----------+----------+-----------+----------------+----------+----------+---------+------+-----------+-------------+\n",
            "|             Date|              Team_1|              Team_2|T1_Score|T2_Score|T1_Sum|T1_BP|T1_Ratio|T1_Srv_Sum|T1_Srv_Err|T1_Srv_Ace|T1_Srv_Eff|T1_Rec_Sum|T1_Rec_Err|T1_Rec_Pos|T1_Rec_Perf|T1_Att_Sum|T1_Att_Err|T1_Att_Blk|T1_Att_Kill|T1_Att_Kill_Perc|T1_Att_Eff|T1_Blk_Sum|T1_Blk_As|T2_Sum|T2_BP|T2_Ratio|T2_Srv_Sum|T2_Srv_Err|T2_Srv_Ace|T2_Srv_Eff|T2_Rec_Sum|T2_Rec_Err|T2_Rec_Pos|T2_Rec_Perf|T2_Att_Sum|T2_Att_Err|T2_Att_Blk|T2_Att_Kill|T2_Att_Kill_Perc|T2_Att_Eff|T2_Blk_Sum|T2_Blk_As|Winner|line_number|Sets_per_Game|\n",
            "+-----------------+--------------------+--------------------+--------+--------+------+-----+--------+----------+----------+----------+----------+----------+----------+----------+-----------+----------+----------+----------+-----------+----------------+----------+----------+---------+------+-----+--------+----------+----------+----------+----------+----------+----------+----------+-----------+----------+----------+----------+-----------+----------------+----------+----------+---------+------+-----------+-------------+\n",
            "|01.10.2022, 14:45|         AZS Olsztyn|ZAKSA Kędzierzyn-...|       1|       3|  60.0| 17.0|    11.0|      79.0|        18|       6.0|      -13%|      85.0|      10.0|       51%|        25%|       100|       7.0|      14.0|       47.0|             47%|       26%|       7.0|       11|    69|   30|      38|        96|        11|        10|        2%|        61|         6|       45%|        26%|        88|         7|         7|         45|             51%|       35%|        14|       11|     1|          0|            4|\n",
            "|30.09.2022, 17:30|  Jastrzębski Węgiel|        GKS Katowice|       3|       0|  51.0| 17.0|    27.0|      77.0|        15|       4.0|       -7%|      54.0|       4.0|       55%|        16%|        88|       4.0|       1.0|       43.0|             48%|       43%|       4.0|        8|    48|   16|      16|        70|        16|         4|      -11%|        62|         4|       50%|        20%|        91|         8|         4|         43|             47%|       34%|         1|       17|     0|          1|            3|\n",
            "|01.10.2022, 20:30|         LUK  Lublin|        Czarni Radom|       2|       3|  76.0| 23.0|    35.0|     109.0|        16|       3.0|       -9%|      85.0|       9.0|       49%|        21%|       115|       6.0|      10.0|       63.0|             54%|       40%|      10.0|        9|    82|   23|      40|       104|        19|         9|       -5%|        93|         3|       47%|        18%|       128|        10|        10|         63|             49%|       33%|        10|       13|     1|          2|            5|\n",
            "|02.10.2022, 14:45|     Warta Zawiercie|  PGE Skra Bełchatów|       3|       2|  66.0| 16.0|    22.0|      98.0|        21|       5.0|      -16%|      80.0|       8.0|       35%|        12%|        92|       8.0|       7.0|       52.0|             56%|       40%|       9.0|       11|    71|   21|      25|       103|        23|         8|       -8%|        77|         5|       32%|         9%|       102|         9|         9|         56|             54%|       37%|         7|       14|     0|          3|            5|\n",
            "|03.10.2022, 17:30|  BBTS Bielsko-Biała|        Cuprum Lubin|       1|       3|  63.0| 22.0|    17.0|     100.0|        19|       7.0|       -7%|      77.0|      12.0|       40%|        23%|        97|       5.0|      10.0|       48.0|             49%|       34%|       8.0|       10|    80|   30|      32|       103|        26|        12|       -8%|        81|         7|       45%|        22%|       109|         7|         8|         58|             53%|       39%|        10|       10|     1|          4|            4|\n",
            "|02.10.2022, 20:30|           Stal Nysa|Ślepsk Malow Suwałki|       3|       1|  68.0| 23.0|    29.0|     100.0|        22|       7.0|      -12%|      74.0|       8.0|       31%|        10%|       105|       5.0|       4.0|       56.0|             53%|       44%|       5.0|        9|    62|   19|      21|        93|        19|         8|       -7%|        78|         7|       42%|        14%|       102|        10|         5|         50|             49%|       34%|         4|        2|     0|          5|            4|\n",
            "|02.10.2022, 17:30|        Trefl Gdańsk|  Barkom Każany Lwów|       3|       0|  59.0| 22.0|    33.0|      73.0|        16|       6.0|       -6%|      47.0|       0.0|       46%|        21%|        83|       2.0|       8.0|       50.0|             60%|       48%|       3.0|       10|    38|    8|      14|        58|        11|         0|      -17%|        57|         6|       36%|        17%|        71|         4|         3|         30|             42%|       32%|         8|        5|     0|          6|            3|\n",
            "|01.10.2022, 17:30|      Asseco Resovia|    Projekt Warszawa|       3|       0|  52.0| 23.0|    25.0|      74.0|        14|       6.0|       -8%|      40.0|       1.0|       50%|        22%|        69|       7.0|       5.0|       36.0|             52%|       34%|      10.0|        8|    32|    3|      -4|        54|        14|         1|      -20%|        60|         6|       36%|        18%|        75|         6|        10|         26|             34%|       13%|         5|        5|     0|          7|            3|\n",
            "|04.10.2022, 16:30|        GKS Katowice|    Projekt Warszawa|       3|       1|  67.0| 26.0|    30.0|      94.0|        18|       8.0|       -6%|      67.0|       4.0|       44%|        25%|       105|       7.0|       8.0|       54.0|             51%|       37%|       5.0|       18|    55|   17|      15|        83|        16|         4|       -6%|        76|         8|       47%|        26%|        95|        11|         5|         43|             45%|       28%|         8|       11|     0|          8|            4|\n",
            "|05.10.2022, 18:45|  Barkom Każany Lwów|      Asseco Resovia|       0|       3|  40.0| 15.0|     9.0|      60.0|        11|       4.0|       -1%|      59.0|       6.0|       28%|        10%|        71|       8.0|       6.0|       33.0|             46%|       26%|       3.0|        6|    52|   20|      28|        73|        14|         6|       -6%|        49|         4|       38%|        24%|        62|         3|         3|         40|             64%|       54%|         6|        4|     1|          9|            3|\n",
            "|06.10.2022, 21:00|Ślepsk Malow Suwałki|        Trefl Gdańsk|       3|       1|  68.0| 15.0|    32.0|      99.0|        19|       2.0|      -14%|      83.0|       5.0|       48%|        20%|       111|       3.0|       9.0|       54.0|             48%|       37%|      12.0|        8|    78|   23|      35|       102|        19|         5|       -6%|        79|         2|       64%|        26%|       125|        10|        12|         64|             51%|       33%|         9|        5|     0|         10|            4|\n",
            "|06.10.2022, 18:45|        Cuprum Lubin|           Stal Nysa|       0|       3|  35.0|  8.0|     0.0|      50.0|        11|       3.0|      -16%|      62.0|      10.0|       38%|         9%|        71|       5.0|       9.0|       27.0|             38%|       18%|       5.0|        6|    58|   29|      36|        74|        11|        10|        2%|        39|         3|       53%|        12%|        66|         3|         5|         39|             59%|       46%|         9|        9|     1|         11|            3|\n",
            "|05.10.2022, 21:00|  PGE Skra Bełchatów|  BBTS Bielsko-Biała|       3|       0|  52.0| 18.0|    36.0|      74.0|         7|       2.0|       -2%|      46.0|       3.0|       54%|        28%|        69|       2.0|       4.0|       40.0|             57%|       49%|      10.0|        6|    49|   11|      16|        59|        13|         3|      -13%|        67|         2|       46%|        13%|        88|         8|        10|         42|             47%|       27%|         4|        6|     0|         12|            3|\n",
            "|05.10.2022, 16:30|        Czarni Radom|     Warta Zawiercie|       0|       3|  45.0| 12.0|    13.0|      58.0|        10|       2.0|      -12%|      65.0|       4.0|       30%|        15%|        82|       4.0|      14.0|       33.0|             40%|       18%|      10.0|        2|    61|   28|      38|        73|         8|         4|        1%|        48|         2|       50%|        35%|        92|         3|        10|         43|             46%|       32%|        14|        6|     1|         13|            3|\n",
            "|04.10.2022, 21:00|ZAKSA Kędzierzyn-...|         LUK  Lublin|       3|       0|  59.0| 23.0|    37.0|      73.0|         9|       3.0|       -5%|      53.0|       4.0|       43%|        32%|        76|       5.0|       4.0|       45.0|             59%|       47%|      11.0|        7|    45|   12|      16|        61|         8|         4|       -3%|        64|         3|       56%|        28%|        88|         7|        11|         37|             42%|       21%|         4|        3|     0|         14|            3|\n",
            "|04.10.2022, 18:45|  Jastrzębski Węgiel|         AZS Olsztyn|       3|       1|  73.0| 27.0|    28.0|     102.0|        20|       9.0|       -7%|      74.0|      14.0|       41%|        21%|        95|       5.0|       6.0|       58.0|             61%|       49%|       6.0|       12|    68|   24|      25|        94|        20|        14|       -6%|        82|         9|       35%|        15%|        90|         8|         6|         48|             53%|       37%|         6|        9|     0|         15|            4|\n",
            "|08.10.2022, 17:30|         AZS Olsztyn|        GKS Katowice|       3|       0|  61.0| 25.0|    38.0|      77.0|        12|      10.0|        1%|      56.0|       6.0|       44%|        17%|        75|       4.0|       1.0|       43.0|             57%|       50%|       8.0|       10|    47|   14|      13|        67|        11|         6|       -4%|        65|        10|       35%|        15%|        80|         5|         8|         40|             50%|       33%|         1|        5|     0|         16|            3|\n",
            "|07.10.2022, 20:30|         LUK  Lublin|  Jastrzębski Węgiel|       1|       3|  66.0| 24.0|    23.0|      85.0|        19|       6.0|      -10%|      83.0|       8.0|       40%|        20%|       104|       9.0|       7.0|       50.0|             48%|       32%|      10.0|       10|    68|   31|      35|        98|        15|         8|        1%|        66|         6|       48%|        28%|        97|         2|        10|         53|             54%|       42%|         7|       14|     1|         17|            4|\n",
            "|09.10.2022, 14:45|     Warta Zawiercie|ZAKSA Kędzierzyn-...|       3|       1|  73.0| 25.0|    39.0|      97.0|        15|       5.0|       -2%|      75.0|       5.0|       49%|        16%|       123|       4.0|      10.0|       60.0|             48%|       37%|       8.0|       10|    68|   20|      30|        91|        16|         5|       -8%|        82|         5|       36%|        14%|       108|         9|         8|         53|             49%|       33%|        10|       15|     0|         18|            4|\n",
            "|10.10.2022, 17:30|  BBTS Bielsko-Biała|        Czarni Radom|       3|       2|  69.0| 28.0|    26.0|     107.0|        23|       7.0|      -11%|      77.0|       6.0|       41%|        20%|       108|       8.0|       6.0|       48.0|             44%|       31%|      14.0|       15|    69|   24|      16|       103|        26|         6|      -14%|        84|         7|       41%|        10%|       123|         6|        14|         57|             46%|       30%|         6|       17|     0|         19|            5|\n",
            "+-----------------+--------------------+--------------------+--------+--------+------+-----+--------+----------+----------+----------+----------+----------+----------+----------+-----------+----------+----------+----------+-----------+----------------+----------+----------+---------+------+-----+--------+----------+----------+----------+----------+----------+----------+----------+-----------+----------+----------+----------+-----------+----------------+----------+----------+---------+------+-----------+-------------+\n",
            "only showing top 20 rows\n",
            "\n"
          ]
        }
      ]
    },
    {
      "cell_type": "markdown",
      "source": [
        "## 1st Exercise - 5\n",
        "Calculate the total number of games per total number of sets."
      ],
      "metadata": {
        "id": "Tp4MbPu8QlGL"
      }
    },
    {
      "cell_type": "code",
      "source": [
        "# 1st Exercise - 5:\n",
        "df3 = df2.select(\"Sets_per_Game\")\n",
        "\n",
        "# Total sets:\n",
        "l2 = df3.groupBy().sum().collect()[0][0]\n",
        "\n",
        "data = [(numOfGames/l2,)]\n",
        "df = spark.createDataFrame(data)\n",
        "\n",
        "df.coalesce(1).write.csv('/content/sample_data/games_div_by_sets', header = False, mode=\"overwrite\")"
      ],
      "metadata": {
        "id": "x1mRYD-eQ59S"
      },
      "execution_count": 10,
      "outputs": []
    },
    {
      "cell_type": "markdown",
      "source": [
        "## 1st Exercise - 6\n",
        "Calculate and write to a csv file the number of games that each team took place (notice that the team could be either home or away)."
      ],
      "metadata": {
        "id": "lJAzVcBVTerB"
      }
    },
    {
      "cell_type": "code",
      "source": [
        "# 1st Exercise - 6:\n",
        "df6 = df1\n",
        "\n",
        "home_teams = df6.select('Team_1')\n",
        "away_teams = df6.select('Team_2')\n",
        "\n",
        "un_df = home_teams.select('Team_1').union(away_teams.select('Team_2')).withColumnRenamed(\"Team_1\", \"Team\")\n",
        "un_df = un_df.groupBy(\"Team\").count()\n",
        "\n",
        "# PySpark will write a lot of csv files in parallel from its nature.\n",
        "# We will use coalesce to merge those data in a single csv file.\n",
        "# source: https://sparkbyexamples.com/spark/spark-write-dataframe-single-csv-file/\n",
        "# However, caution should be taken in case of very very large data sets as coalesce is a computationally expensive operation.\n",
        "\n",
        "un_df.coalesce(1).write.csv('/content/sample_data/num_of_matches_per_team', header=True, mode=\"overwrite\")"
      ],
      "metadata": {
        "id": "kagsS4K8Q9Yj"
      },
      "execution_count": 11,
      "outputs": []
    },
    {
      "cell_type": "markdown",
      "source": [
        "## 2nd Exercise\n",
        "Create and save to a csv file a holistic data analysis table for all the teams found inside the initial csv file. **For each team**, present in descending order per total games won:\n",
        "1.   Number of games (home, away and total).\n",
        "2.   Sets won and lost.\n",
        "3.   Points won and lost.\n"
      ],
      "metadata": {
        "id": "Ee1AG1LKXiXD"
      }
    },
    {
      "cell_type": "code",
      "source": [
        "# 2nd Exercise - 1:\n",
        "# OUTPUT THIS TO CSV\n",
        "\n",
        "# df6 is the initial dataframe for each subsequent task of exercise 2.\n",
        "\n",
        "# To find out how many times a team won, we could find the number of times team won as a HomeTeam when Winner==0 and AwayTeam when Winner==1.\n",
        "\n",
        "# How many times team won as a Home Team:\n",
        "df7 = df6.select(['Team_1', 'Winner'])\n",
        "home_games = df7.groupBy('Team_1').count().withColumnRenamed(\"count\", \"HomeGames\")\n",
        "home_games = home_games.withColumnRenamed(\"Team_1\", \"Team\")\n",
        "home_games_won = df7.groupBy('Team_1').agg(count(when(col(\"Winner\") == 0, True)))\n",
        "home_games_won = home_games_won.withColumnRenamed(\"Team_1\", \"Team\")\n",
        "\n",
        "#home_games.show()\n",
        "#home_games_won.show()\n",
        "\n",
        "# How many times team won as an Away Team:\n",
        "df8 = df6.select([\"Team_2\", \"Winner\"])\n",
        "away_games = df8.groupBy('Team_2').count().withColumnRenamed(\"count\", \"AwayGames\")\n",
        "away_games = away_games.withColumnRenamed(\"Team_2\", \"Team\")\n",
        "away_games_won = df8.groupBy('Team_2').agg(count(when(col(\"Winner\") == 1, True)))\n",
        "away_games_won = away_games_won.withColumnRenamed(\"Team_2\", \"Team\")\n",
        "\n",
        "#away_games.show()\n",
        "#away_games_won.show()\n",
        "\n",
        "# Join the results from the previous 2 dataframes:\n",
        "joined_df1 = un_df.alias(\"un_df\")\\\n",
        "    .join(home_games_won.alias(\"home_games_won\"), col(\"un_df.Team\") == col(\"home_games_won.Team\"))\\\n",
        "    .join(away_games_won.alias(\"away_games_won\"), col(\"un_df.Team\") == col(\"away_games_won.Team\"))\\\n",
        "    .join(home_games.alias(\"home_games\"), col(\"un_df.Team\") == col(\"home_games.Team\")) \\\n",
        "    .join(away_games.alias(\"away_games\"), col(\"un_df.Team\") == col(\"away_games.Team\")) \\\n",
        "    .select(\"un_df.Team\", \"un_df.count\", \"count(CASE WHEN (Winner = 0) THEN true END)\", \"count(CASE WHEN (Winner = 1) THEN true END)\", \"home_games.HomeGames\", \"away_games.AwayGames\")\n",
        "\n",
        "joined_df1 = joined_df1.withColumnRenamed(\"count(CASE WHEN (Winner = 0) THEN true END)\", \"HomeGamesWon\")\n",
        "joined_df1 = joined_df1.withColumnRenamed(\"count(CASE WHEN (Winner = 1) THEN true END)\", \"AwayGamesWon\")\n",
        "joined_df1 = joined_df1.withColumn(\"TotalGamesWon\", col(\"HomeGamesWon\") + col(\"AwayGamesWon\"))\n",
        "joined_df1 = joined_df1.withColumnRenamed(\"count\", \"TotalGames\")\n",
        "joined_df1.show()"
      ],
      "metadata": {
        "colab": {
          "base_uri": "https://localhost:8080/"
        },
        "id": "aWWbYbrkRVMM",
        "outputId": "1cfc057b-6206-4216-aa76-82932b152f95"
      },
      "execution_count": 32,
      "outputs": [
        {
          "output_type": "stream",
          "name": "stdout",
          "text": [
            "+--------------------+----------+------------+------------+---------+---------+-------------+\n",
            "|                Team|TotalGames|HomeGamesWon|AwayGamesWon|HomeGames|AwayGames|TotalGamesWon|\n",
            "+--------------------+----------+------------+------------+---------+---------+-------------+\n",
            "|  BARKOM KAŻANY LWÓW|        27|           3|           3|       13|       14|            6|\n",
            "|         AZS OLSZTYN|       396|         104|          68|      199|      197|          172|\n",
            "|      ASSECO RESOVIA|       431|         158|         132|      219|      212|          290|\n",
            "|   STOCZNIA SZCZECIN|        64|          10|           9|       32|       32|           19|\n",
            "|     WARTA ZAWIERCIE|       156|          49|          42|       77|       79|           91|\n",
            "|         LUK  LUBLIN|        54|          12|          10|       27|       27|           22|\n",
            "|  BBTS BIELSKO-BIAŁA|       170|          21|          14|       85|       85|           35|\n",
            "|          MKS BĘDZIN|       178|          25|          19|       88|       90|           44|\n",
            "|    PROJEKT WARSZAWA|       407|         105|          89|      199|      208|          194|\n",
            "|     AZS CZĘSTOCHOWA|       250|          42|          41|      122|      128|           83|\n",
            "|           STAL NYSA|        80|          15|          11|       42|       38|           26|\n",
            "|         JADAR RADOM|        46|          11|           6|       24|       22|           17|\n",
            "|        CUPRUM LUBIN|       234|          60|          50|      115|      119|          110|\n",
            "|        TREFL GDAŃSK|       337|          92|          79|      167|      170|          171|\n",
            "|ŚLEPSK MALOW SUWAŁKI|        83|          17|          15|       41|       42|           32|\n",
            "|        CZARNI RADOM|       264|          57|          51|      130|      134|          108|\n",
            "|PAMAPOL WIELTON W...|        56|           7|           7|       27|       29|           14|\n",
            "|  PGE SKRA BEŁCHATÓW|       435|         172|         149|      224|      211|          321|\n",
            "|ZAKSA KĘDZIERZYN-...|       445|         169|         155|      228|      217|          324|\n",
            "|        GKS KATOWICE|       173|          39|          35|       86|       87|           74|\n",
            "+--------------------+----------+------------+------------+---------+---------+-------------+\n",
            "only showing top 20 rows\n",
            "\n"
          ]
        }
      ]
    },
    {
      "cell_type": "code",
      "source": [
        "# 2nd Exercise - 2:\n",
        "\n",
        "sets = df6.select(\"Team_1\", \"Team_2\", \"T1_Score\", \"T2_Score\", \"T1_Sum\", \"T2_Sum\", \"Winner\")\n",
        "\n",
        "sets_home_won = sets.groupBy(\"Team_1\").agg(_sum(sets.T1_Score))\n",
        "sets_away_won = sets.groupBy(\"Team_2\").agg(_sum(sets.T2_Score))\n",
        "\n",
        "sets_won = sets_home_won.alias(\"sets_home_won\").join(sets_away_won.alias(\"sets_away_won\"), col(\"sets_home_won.Team_1\") == col(\"sets_away_won.Team_2\"))\n",
        "\n",
        "sets_won = sets_won.withColumnRenamed(\"sum(T1_Score)\", \"SetsWonAsHomeTeam\")\n",
        "sets_won = sets_won.withColumnRenamed(\"sum(T2_Score)\", \"SetsWonAsAwayTeam\")\n",
        "\n",
        "#sets_won.show()\n",
        "\n",
        "f_sets_won = sets_won.withColumn(\"SetsWon\", col(\"SetsWonAsHomeTeam\") + col(\"SetsWonAsAwayTeam\"))\n",
        "\n",
        "f_sets_won = f_sets_won.withColumnRenamed(\"Team_1\", \"Team_1_won\")\n",
        "f_sets_won = f_sets_won.drop(\"SetsWonAsHomeTeam\")\n",
        "f_sets_won = f_sets_won.drop(\"SetsWonAsAwayTeam\")\n",
        "f_sets_won = f_sets_won.drop(\"Team_2\")\n",
        "\n",
        "#f_sets_won.show()\n",
        "\n",
        "sets_home_lost = sets.groupBy(\"Team_1\").agg(_sum(col(\"T2_Score\")))\n",
        "sets_away_lost = sets.groupBy(\"Team_2\").agg(_sum(col(\"T1_Score\")))\n",
        "\n",
        "sets_lost = sets_home_lost.alias(\"sets_home_lost\").join(sets_away_lost.alias(\"sets_away_lost\"),\n",
        "                                                      col(\"sets_home_lost.Team_1\") == col(\"sets_away_lost.Team_2\"))\n",
        "sets_lost = sets_lost.withColumnRenamed(\"sum(T2_Score)\", \"SetsLostAsHomeTeam\")\n",
        "sets_lost = sets_lost.withColumnRenamed(\"sum(T1_Score)\", \"SetsLostAsAwayTeam\")\n",
        "\n",
        "#sets_lost.show()\n",
        "\n",
        "f_sets_lost = sets_lost.withColumn(\"SetsLost\", col(\"SetsLostAsHomeTeam\") + col(\"SetsLostAsAwayTeam\"))\n",
        "\n",
        "f_sets_lost = f_sets_lost.withColumnRenamed(\"Team_1\", \"Team_1_lost\")\n",
        "f_sets_lost= f_sets_lost.drop(\"SetsLostAsHomeTeam\")\n",
        "f_sets_lost = f_sets_lost.drop(\"SetsLostAsAwayTeam\")\n",
        "f_sets_lost = f_sets_lost.drop(\"Team_2\")\n",
        "\n",
        "#f_sets_lost.show()\n",
        "\n",
        "joined_df1 = joined_df1.alias(\"joined_df1\")\\\n",
        "            .join(f_sets_won.alias(\"f_sets_won\"), col(\"joined_df1.Team\") == col(\"f_sets_won.Team_1_won\"))\\\n",
        "            .join(f_sets_lost.alias(\"f_sets_lost\"), col(\"joined_df1.Team\") == col(\"f_sets_lost.Team_1_lost\"))\n",
        "\n",
        "joined_df1 = joined_df1.drop(\"Team_1_lost\")\n",
        "joined_df1 = joined_df1.drop(\"Team_1_won\")\n",
        "joined_df1.show()"
      ],
      "metadata": {
        "colab": {
          "base_uri": "https://localhost:8080/"
        },
        "id": "a3EZkM7xRuqQ",
        "outputId": "bf08d42b-fec1-43be-8d6f-53a41ab3edc1"
      },
      "execution_count": 33,
      "outputs": [
        {
          "output_type": "stream",
          "name": "stdout",
          "text": [
            "+--------------------+----------+------------+------------+---------+---------+-------------+-------+--------+\n",
            "|                Team|TotalGames|HomeGamesWon|AwayGamesWon|HomeGames|AwayGames|TotalGamesWon|SetsWon|SetsLost|\n",
            "+--------------------+----------+------------+------------+---------+---------+-------------+-------+--------+\n",
            "|  BARKOM KAŻANY LWÓW|        27|           3|           3|       13|       14|            6|     35|      66|\n",
            "|         AZS OLSZTYN|       396|         104|          68|      199|      197|          172|    699|     825|\n",
            "|      ASSECO RESOVIA|       431|         158|         132|      219|      212|          290|   1002|     624|\n",
            "|   STOCZNIA SZCZECIN|        64|          10|           9|       32|       32|           19|     96|     157|\n",
            "|     WARTA ZAWIERCIE|       156|          49|          42|       77|       79|           91|    328|     277|\n",
            "|  BBTS BIELSKO-BIAŁA|       170|          21|          14|       85|       85|           35|    189|     447|\n",
            "|         LUK  LUBLIN|        54|          12|          10|       27|       27|           22|     89|     123|\n",
            "|          MKS BĘDZIN|       178|          25|          19|       88|       90|           44|    226|     445|\n",
            "|    PROJEKT WARSZAWA|       407|         105|          89|      199|      208|          194|    768|     819|\n",
            "|     AZS CZĘSTOCHOWA|       250|          42|          41|      122|      128|           83|    379|     588|\n",
            "|           STAL NYSA|        80|          15|          11|       42|       38|           26|    127|     177|\n",
            "|         JADAR RADOM|        46|          11|           6|       24|       22|           17|     66|     103|\n",
            "|        CUPRUM LUBIN|       234|          60|          50|      115|      119|          110|    434|     472|\n",
            "|        TREFL GDAŃSK|       337|          92|          79|      167|      170|          171|    629|     645|\n",
            "|ŚLEPSK MALOW SUWAŁKI|        83|          17|          15|       41|       42|           32|    137|     176|\n",
            "|        CZARNI RADOM|       264|          57|          51|      130|      134|          108|    442|     550|\n",
            "|PAMAPOL WIELTON W...|        56|           7|           7|       27|       29|           14|     71|     139|\n",
            "|  PGE SKRA BEŁCHATÓW|       435|         172|         149|      224|      211|          321|   1095|     570|\n",
            "|ZAKSA KĘDZIERZYN-...|       445|         169|         155|      228|      217|          324|   1107|     573|\n",
            "|        GKS KATOWICE|       173|          39|          35|       86|       87|           74|    295|     373|\n",
            "+--------------------+----------+------------+------------+---------+---------+-------------+-------+--------+\n",
            "only showing top 20 rows\n",
            "\n"
          ]
        }
      ]
    },
    {
      "cell_type": "code",
      "source": [
        "from google.colab import drive\n",
        "drive.mount('/content/drive')"
      ],
      "metadata": {
        "id": "rF9pO60X9vZj"
      },
      "execution_count": null,
      "outputs": []
    },
    {
      "cell_type": "code",
      "source": [
        "# 2nd Exercise - 3:\n",
        "points_home_won = sets.groupBy(\"Team_1\").agg(_sum(sets.T1_Sum))\n",
        "points_away_won = sets.groupBy(\"Team_2\").agg(_sum(sets.T2_Sum))\n",
        "\n",
        "#points_home_won.show()\n",
        "\n",
        "points_won = points_home_won.alias(\"points_home_won\").join(points_away_won.alias(\"points_away_won\"),\n",
        "                                                      col(\"points_home_won.Team_1\") == col(\"points_away_won.Team_2\"))\n",
        "\n",
        "points_won = points_won.withColumnRenamed(\"sum(T1_Sum)\", \"pointsWonAsHomeTeam\")\n",
        "points_won = points_won.withColumnRenamed(\"sum(T2_Sum)\", \"pointsWonAsAwayTeam\")\n",
        "\n",
        "#points_won.show()\n",
        "\n",
        "f_points_won = points_won.withColumn(\"pointsWon\", col(\"pointsWonAsHomeTeam\") + col(\"pointsWonAsAwayTeam\"))\n",
        "\n",
        "f_points_won = f_points_won.withColumnRenamed(\"Team_1\", \"Team_1_won\")\n",
        "f_points_won = f_points_won.drop(\"pointsWonAsHomeTeam\")\n",
        "f_points_won = f_points_won.drop(\"pointsWonAsAwayTeam\")\n",
        "f_points_won = f_points_won.drop(\"Team_2\")\n",
        "\n",
        "#f_points_won.show()\n",
        "\n",
        "\n",
        "points_home_lost = sets.groupBy(\"Team_1\").agg(_sum(sets.T2_Sum))\n",
        "points_away_lost = sets.groupBy(\"Team_2\").agg(_sum(sets.T1_Sum))\n",
        "\n",
        "points_lost = points_home_lost.alias(\"points_home_lost\").join(points_away_lost.alias(\"points_away_lost\"),\n",
        "                                                      col(\"points_home_lost.Team_1\") == col(\"points_away_lost.Team_2\"))\n",
        "points_lost = points_lost.withColumnRenamed(\"sum(T2_Sum)\", \"pointsLostAsHomeTeam\")\n",
        "points_lost = points_lost.withColumnRenamed(\"sum(T1_Sum)\", \"pointsLostAsAwayTeam\")\n",
        "\n",
        "#points_lost.show()\n",
        "\n",
        "f_points_lost = points_lost.withColumn(\"pointsLost\", col(\"pointsLostAsHomeTeam\") + col(\"pointsLostAsAwayTeam\"))\n",
        "\n",
        "f_points_lost = f_points_lost.withColumnRenamed(\"Team_1\", \"Team_1_lost\")\n",
        "f_points_lost= f_points_lost.drop(\"pointsLostAsHomeTeam\")\n",
        "f_points_lost = f_points_lost.drop(\"pointsLostAsAwayTeam\")\n",
        "f_points_lost = f_points_lost.drop(\"Team_2\")\n",
        "\n",
        "#f_points_lost.show()\n",
        "\n",
        "joined_df1 = joined_df1.alias(\"joined_df1\")\\\n",
        "            .join(f_points_won.alias(\"f_points_won\"), col(\"joined_df1.Team\") == col(\"f_points_won.Team_1_won\"))\\\n",
        "            .join(f_points_lost.alias(\"f_points_lost\"), col(\"joined_df1.Team\") == col(\"f_points_lost.Team_1_lost\"))\n",
        "\n",
        "\n",
        "joined_df1 = joined_df1.drop(\"Team_1_lost\")\n",
        "joined_df1 = joined_df1.drop(\"Team_1_won\")\n",
        "\n",
        "joined_df1 = joined_df1.orderBy(desc(\"TotalGamesWon\"))\n",
        "joined_df1 = joined_df1.select(\"Team\", \"HomeGames\", \"AwayGames\", \"TotalGames\", \"SetsWon\", \"SetsLost\", \"PointsWon\", \"PointsLost\")\n",
        "joined_df1.coalesce(1).write.csv('/content/sample_data/final_output', header = True, mode=\"overwrite\")\n",
        "joined_df1.show(truncate=False)"
      ],
      "metadata": {
        "colab": {
          "base_uri": "https://localhost:8080/"
        },
        "id": "LovvAiJaSrCb",
        "outputId": "788a152a-9d76-4788-b68d-9a4a39757930"
      },
      "execution_count": 34,
      "outputs": [
        {
          "output_type": "stream",
          "name": "stdout",
          "text": [
            "+----------------------+---------+---------+----------+-------+--------+---------+----------+\n",
            "|Team                  |HomeGames|AwayGames|TotalGames|SetsWon|SetsLost|PointsWon|PointsLost|\n",
            "+----------------------+---------+---------+----------+-------+--------+---------+----------+\n",
            "|ZAKSA KĘDZIERZYN-KOŹLE|228      |217      |445       |1107   |573     |27843.0  |25433.0   |\n",
            "|PGE SKRA BEŁCHATÓW    |224      |211      |435       |1095   |570     |27994.0  |24220.0   |\n",
            "|ASSECO RESOVIA        |219      |212      |431       |1002   |624     |26921.0  |24745.0   |\n",
            "|JASTRZĘBSKI WĘGIEL    |220      |219      |439       |1011   |692     |27754.0  |26239.0   |\n",
            "|PROJEKT WARSZAWA      |199      |208      |407       |768    |819     |25230.0  |25062.0   |\n",
            "|AZS OLSZTYN           |199      |197      |396       |699    |825     |24181.0  |24953.0   |\n",
            "|TREFL GDAŃSK          |167      |170      |337       |629    |645     |20501.0  |20331.0   |\n",
            "|CHEMIK BYDGOSZCZ      |158      |160      |318       |534    |678     |18887.0  |20350.0   |\n",
            "|CUPRUM LUBIN          |115      |119      |234       |434    |472     |14439.0  |14751.0   |\n",
            "|CZARNI RADOM          |130      |134      |264       |442    |550     |15747.0  |16059.0   |\n",
            "|WARTA ZAWIERCIE       |77       |79       |156       |328    |277     |9830.0   |9890.0    |\n",
            "|AZS CZĘSTOCHOWA       |122      |128      |250       |379    |588     |14703.0  |15795.0   |\n",
            "|GKS KATOWICE          |86       |87       |173       |295    |373     |10424.0  |10875.0   |\n",
            "|SPOŁEM KIELCE         |116      |119      |235       |327    |567     |13627.0  |14954.0   |\n",
            "|MKS BĘDZIN            |88       |90       |178       |226    |445     |10046.0  |11145.0   |\n",
            "|BBTS BIELSKO-BIAŁA    |85       |85       |170       |189    |447     |9310.0   |10766.0   |\n",
            "|ŚLEPSK MALOW SUWAŁKI  |41       |42       |83        |137    |176     |4971.0   |5347.0    |\n",
            "|STAL NYSA             |42       |38       |80        |127    |177     |4750.0   |4958.0    |\n",
            "|LUK  LUBLIN           |27       |27       |54        |89     |123     |3294.0   |3531.0    |\n",
            "|STOCZNIA SZCZECIN     |32       |32       |64        |96     |157     |3806.0   |4264.0    |\n",
            "+----------------------+---------+---------+----------+-------+--------+---------+----------+\n",
            "only showing top 20 rows\n",
            "\n"
          ]
        }
      ]
    }
  ]
}